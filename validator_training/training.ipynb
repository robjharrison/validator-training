{
 "cells": [
  {
   "cell_type": "code",
   "execution_count": 3,
   "metadata": {},
   "outputs": [],
   "source": [
    "# Remember to pip install pytest\n",
    "\n",
    "import pandas as pd\n",
    "from utils import read_cin_data\n",
    "import pytest\n",
    "\n",
    "collection_start = pd.to_datetime(\"01/04/2021\", dayfirst=True)\n",
    "collection_end = pd.to_datetime(\"31/03/2022\", dayfirst=True)\n",
    "\n",
    "(\n",
    "    ChildCharacteristics,\n",
    "    ChildIdentifiers,\n",
    "    ChildProtectionPlans, # No data in here\n",
    "    CINdetails,\n",
    "    CINplanDates, # No data in here\n",
    "    Header,\n",
    "    Reviews, # No data in here\n",
    "    Section47, # No data in here\n",
    ") = read_cin_data()"
   ]
  },
  {
   "cell_type": "markdown",
   "metadata": {},
   "source": [
    "We'll try rules as simply doing slices before we try doing them as functions, and before we write tests for them\n",
    "\n",
    "# Rules to try:\n",
    "- rule 4180: GenderCurrent (N00097) must be present and valid\n",
    "- rule 4220: Ethnicity (N00177) must be present and a valid code\n",
    "- rule 100: ReferenceDate (N00603) must be present and must equal 2022-03-31\n",
    "- rule 1520: Each pupil UPN (N00001) must be unique across all pupils in the extract\n",
    "- rule 8510: Each LAchildID (N00097) must be unique across all children within the same LA return. \n",
    "- rule 1540: If UPN (N00001) present Characters 5-12 of UPN must be numeric\n",
    "- rule 8520: PersonBirthDate (N00066) must be on or before ReferenceDate (N00603) or null\n",
    "- rule 8525Q: Either Date of Birth or Expected Date of Birth must be provided (but not both)\n",
    "- rule 8600: Child referral date missing or after data collection period\n",
    "\n",
    "# Harder but better practice (eg needing 2 or more tables):\n",
    "- rule 8606: CINreferralDate (N00100) cannot be more than 280 days before PersonBirthDate (N00066) or ExpectedPersonBirthDate\n",
    "\n",
    "# The following are great to do, but can only really be done with appropriate test_xxxx functions as there isn't sufficeint fake data to do them otherwise"
   ]
  },
  {
   "cell_type": "code",
   "execution_count": 5,
   "metadata": {},
   "outputs": [
    {
     "data": {
      "text/plain": [
       "[9, 21, 32, 45]"
      ]
     },
     "execution_count": 5,
     "metadata": {},
     "output_type": "execute_result"
    }
   ],
   "source": [
    "# Lets do 4180 as an example.\n",
    "# For the cin validator, we find failing rows and return the index locations of those rows as a list\n",
    "\n",
    "valid_gender_codes = [\"1\", \"2\", \"0\", \"9\"]\n",
    "\n",
    "df = ChildIdentifiers\n",
    "\n",
    "condition = df['GenderCurrent'].isin(valid_gender_codes)\n",
    "\n",
    "failing_rows = list(df[~condition].index)\n",
    "\n",
    "failing_rows\n"
   ]
  },
  {
   "cell_type": "code",
   "execution_count": 17,
   "metadata": {},
   "outputs": [
    {
     "name": "stdout",
     "output_type": "stream",
     "text": [
      "[0, 1, 2, 3, 4, 5, 6, 7, 8, 9, 10, 11, 12, 13, 14, 15, 16, 17, 18, 19, 20, 21, 22, 23, 24, 25, 26, 27, 28, 29, 30, 31, 32, 33, 34, 35, 36, 37, 38, 39, 40, 41, 42, 43, 44, 45, 46, 47, 48, 49, 50, 51, 52, 53, 54, 55, 56, 57, 58, 59, 60, 61, 62, 63, 64, 65, 66, 67, 68, 69, 70, 71, 72, 73, 74, 75, 76, 77, 78, 79, 80, 81, 82, 83, 84, 85, 86, 87, 88, 89, 90, 91, 92, 93, 94, 95, 96, 97, 98, 99, 100, 101, 102, 103, 104, 105, 106, 107, 108, 109, 110, 111, 112, 113, 114, 115, 116, 117, 118, 119, 120, 121, 122, 123, 124, 125, 126, 127, 128, 129, 130, 131, 132, 133, 134, 135, 136, 137, 138, 139, 140, 141, 142, 143, 144, 145, 146, 147, 148, 149, 150, 151, 152, 153, 154, 155, 156, 157, 158, 159, 160, 161, 162, 163, 164, 165, 166, 167, 168, 169, 170, 171, 172, 173, 174, 175, 176, 177, 178, 179, 180, 181, 182, 183, 184, 185, 186, 187, 188, 189, 190, 191, 192, 193, 194, 195, 196, 197, 198, 199, 200, 201, 202, 203, 204, 205, 206, 207, 208, 209, 210, 211, 212, 213, 214, 215, 216, 217, 218, 219, 220, 221, 222, 223, 224, 225, 226, 227, 228, 229, 230, 231, 232, 233, 234, 235, 236, 237, 238, 239, 240, 241, 242, 243, 244, 245, 246, 247, 248, 249, 250, 251, 252, 253, 254, 255, 256, 257, 258, 259, 260, 261, 262, 263, 264, 265, 266, 267, 268, 269, 270, 271, 272, 273, 274, 275, 276, 277, 278, 279, 280, 281, 282, 283, 284, 285, 286, 287, 288, 289, 290, 291, 292, 293, 294, 295, 296, 297, 298, 299, 300, 301, 302, 303, 304, 305, 306, 307, 308, 309, 310, 311, 312, 313, 314, 315, 316, 317, 318, 319, 320, 321, 322, 323, 324, 325, 326, 327, 328, 329, 330, 331]\n"
     ]
    }
   ],
   "source": [
    "# DoB or EDoB, but not both\n",
    "\n",
    "df = ChildIdentifiers.copy()\n",
    "\n",
    "# display(ChildIdentifiers)\n",
    "\n",
    "condition_has_bd = df['PersonBirthDate'].notna()\n",
    "condition_has_ebd = df['ExpectedPersonBirthDate'].notna()\n",
    "\n",
    "# ensure only one date is non-null\n",
    "failing_rows1 = df[~(condition_has_bd ^ condition_has_ebd)].index.tolist()\n",
    "failing_rows2 = df[condition_has_bd & condition_has_ebd].index.tolist()\n",
    "\n",
    "\n",
    "print(failing_rows1 + failing_rows2)"
   ]
  },
  {
   "cell_type": "code",
   "execution_count": 16,
   "metadata": {},
   "outputs": [
    {
     "data": {
      "text/plain": [
       "Index([], dtype='int64')"
      ]
     },
     "execution_count": 16,
     "metadata": {},
     "output_type": "execute_result"
    }
   ],
   "source": [
    "# 4220\n",
    "\n",
    "valid_ethnicity_codes = [\"ABAN\",\"AIND\",\"AOTH\",\"APKN\",\"BAFR\",\"BCRB\",\"BOTH\",\"CHNE\",\"MOTH\",\"MWAS\",\"MWBA\",\"MWBC\",\"NOBT\",\"OOTH\",\"REFU\",\"WBRI\",\"WIRI\",\"WIRT\",\"WOTH\",\"WROM\"]\n",
    "\n",
    "df = ChildCharacteristics\n",
    "\n",
    "failing_rows = df[~df['Ethnicity'].isin(valid_ethnicity_codes)].index.tolist()\n",
    "# failing_rows = df[~df['Ethnicity'].astype(str).isin(valid_ethnicity_codes)].index\n",
    "\n",
    "failing_rows"
   ]
  },
  {
   "cell_type": "markdown",
   "metadata": {},
   "source": [
    "Lets rewrite these as fucntions so we can pop them inside pytests and so it's more relevant to the validator code. We will do this in a test_XXXX.py file."
   ]
  }
 ],
 "metadata": {
  "kernelspec": {
   "display_name": "Python 3",
   "language": "python",
   "name": "python3"
  },
  "language_info": {
   "codemirror_mode": {
    "name": "ipython",
    "version": 3
   },
   "file_extension": ".py",
   "mimetype": "text/x-python",
   "name": "python",
   "nbconvert_exporter": "python",
   "pygments_lexer": "ipython3",
   "version": "3.10.13"
  }
 },
 "nbformat": 4,
 "nbformat_minor": 2
}
